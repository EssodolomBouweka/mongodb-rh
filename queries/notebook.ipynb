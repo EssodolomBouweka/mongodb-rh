{
 "cells": [
  {
   "cell_type": "markdown",
   "id": "13cb833f",
   "metadata": {},
   "source": [
    "#  Requêtes MongoDB – Projet RH NoSQL\n",
    "\n",
    "**Contexte :**  \n",
    "Projet de gestion des ressources humaines utilisant MongoDB et PyMongo dans le cadre du projet académique M1 Big data et IA.  \n",
    "Ce document présente une sélection de requêtes MongoDB avec des explications métier concrètes.\n",
    "\n",
    "## Projet présenté par BOUWEKA BIDJADA M Essodolom et DJOHSON Daniel"
   ]
  },
  {
   "cell_type": "markdown",
   "id": "de41a5cd",
   "metadata": {},
   "source": [
    "\n",
    "##  1. Connexion à la base de données"
   ]
  },
  {
   "cell_type": "code",
   "execution_count": 1,
   "id": "fb6e3a02",
   "metadata": {},
   "outputs": [],
   "source": [
    "\n",
    "from pymongo import MongoClient\n",
    "import os\n",
    "from dotenv import load_dotenv\n",
    "\n",
    "# Chargement des variables d'environnement\n",
    "load_dotenv()\n",
    "\n",
    "# Connexion\n",
    "client = MongoClient(os.getenv(\"MONGO_URI\"))\n",
    "db = client[\"rh_database\"]\n",
    "\n",
    "employees = db[\"employees\"]\n",
    "departments = db[\"departments\"]\n",
    "leave_requests = db[\"leave_requests\"]\n"
   ]
  },
  {
   "cell_type": "markdown",
   "id": "016e5e68",
   "metadata": {},
   "source": [
    "Import des données"
   ]
  },
  {
   "cell_type": "code",
   "execution_count": 5,
   "id": "301493ad",
   "metadata": {},
   "outputs": [],
   "source": [
    "import json\n",
    "\n",
    "# Charger et insérer les données depuis un fichier JSON (facultatif)\n",
    "def import_json_collection(json_file_path, collection):\n",
    "    with open(json_file_path, \"r\", encoding=\"utf-8\") as file:\n",
    "        data = json.load(file)\n",
    "    if isinstance(data, list):\n",
    "        collection.insert_many(data)\n",
    "    else:\n",
    "        collection.insert_one(data)\n",
    "\n",
    "# Exemple :\n",
    "# import_json_collection(\"data/employees.json\", employees)\n"
   ]
  },
  {
   "cell_type": "markdown",
   "id": "2236c3d1",
   "metadata": {},
   "source": [
    "## Liste des requetes"
   ]
  },
  {
   "cell_type": "markdown",
   "id": "23bdd39e",
   "metadata": {},
   "source": [
    "# 1. Tous les employés"
   ]
  },
  {
   "cell_type": "code",
   "execution_count": 6,
   "id": "ec4f8e38",
   "metadata": {},
   "outputs": [],
   "source": [
    "# But : Afficher tous les employés.\n",
    "for emp in employees.find():\n",
    "    print(emp)\n",
    "\n",
    "# Résultat : Itération sur tous les documents."
   ]
  },
  {
   "cell_type": "markdown",
   "id": "d743ff12",
   "metadata": {},
   "source": [
    "# 2. Trouver un employé par nom"
   ]
  },
  {
   "cell_type": "code",
   "execution_count": 8,
   "id": "9aa7621d",
   "metadata": {},
   "outputs": [],
   "source": [
    "# But : Trouver un employé avec le nom \"Koffi\".\n",
    "\n",
    "employees.find_one({\"last_name\": \"Koffi\"})\n",
    "\n",
    "\n",
    "# Résultat : Renvoie le premier document correspondant."
   ]
  },
  {
   "cell_type": "markdown",
   "id": "ba7a7ef5",
   "metadata": {},
   "source": [
    "# 3. les employés d'un département "
   ]
  },
  {
   "cell_type": "code",
   "execution_count": 9,
   "id": "bb16b2d4",
   "metadata": {},
   "outputs": [
    {
     "data": {
      "text/plain": [
       "<pymongo.synchronous.cursor.Cursor at 0x1ead21760d0>"
      ]
     },
     "execution_count": 9,
     "metadata": {},
     "output_type": "execute_result"
    }
   ],
   "source": [
    "#  But métier :\n",
    "# Obtenir la liste de tous les employés appartenant au département D001.\n",
    "# Cela peut être utile pour l’analyse RH d’une entité spécifique (ex. : département informatique).\n",
    "\n",
    "employees.find({\"department_id\": \"D001\"})\n",
    "\n",
    "#  Lecture du résultat :\n",
    "# Retourne un curseur contenant tous les documents dont le champ \"department_id\" est égal à \"D001\".\n",
    "# Chaque document correspond à un employé du département concerné.\n"
   ]
  },
  {
   "cell_type": "markdown",
   "id": "acf60b8a",
   "metadata": {},
   "source": [
    "# 4. Nombre total d'employés"
   ]
  },
  {
   "cell_type": "code",
   "execution_count": 11,
   "id": "3c76ec59",
   "metadata": {},
   "outputs": [
    {
     "data": {
      "text/plain": [
       "0"
      ]
     },
     "execution_count": 11,
     "metadata": {},
     "output_type": "execute_result"
    }
   ],
   "source": [
    "# But : Obtenir le nombre total d'employés.\n",
    "\n",
    "employees.count_documents({})\n",
    "\n",
    "\n",
    "# Résultat : Affiche un entier."
   ]
  },
  {
   "cell_type": "markdown",
   "id": "d403fdd9",
   "metadata": {},
   "source": [
    "# 5. Les employés par date d'embauche décroissante"
   ]
  },
  {
   "cell_type": "code",
   "execution_count": 12,
   "id": "6f970381",
   "metadata": {},
   "outputs": [
    {
     "data": {
      "text/plain": [
       "<pymongo.synchronous.cursor.Cursor at 0x1ead2176990>"
      ]
     },
     "execution_count": 12,
     "metadata": {},
     "output_type": "execute_result"
    }
   ],
   "source": [
    "#  But métier :\n",
    "# Afficher tous les employés classés par date d'embauche décroissante.\n",
    "# Cela permet d’identifier les derniers employés recrutés (plus récents en haut de la liste).\n",
    "\n",
    "employees.find().sort(\"hire_date\", -1)\n",
    "\n",
    "#  Lecture du résultat :\n",
    "# - `employees.find()` récupère tous les employés.\n",
    "# - `.sort(\"hire_date\", -1)` trie ces documents en ordre décroissant de la date d'embauche.\n",
    "#    Le `-1` signifie \"décroissant\".\n",
    "# Résultat : le premier document correspond à l’employé embauché le plus récemment.\n"
   ]
  },
  {
   "cell_type": "markdown",
   "id": "69e50f42",
   "metadata": {},
   "source": [
    "# 6. Mise a jour du salaire d'un employé "
   ]
  },
  {
   "cell_type": "code",
   "execution_count": null,
   "id": "89df7efd",
   "metadata": {},
   "outputs": [],
   "source": [
    "# But : Mettre à jour le salaire de l'employé\n",
    "\n",
    "employees.update_one(\n",
    "    {\"_id\": ObjectId(\"64b9f6e8ecdb16d93771e9f2\")},\n",
    "    {\"$set\": {\"salary\": 750000}}\n",
    ")\n",
    "\n",
    "# résultat : Le champ salary est modifié pour 64b9f6e8ecdb16d93771e9f2"
   ]
  },
  {
   "cell_type": "markdown",
   "id": "a9d1c955",
   "metadata": {},
   "source": [
    "# 7. Suppression d'un employé"
   ]
  },
  {
   "cell_type": "code",
   "execution_count": null,
   "id": "4c7ac28f",
   "metadata": {},
   "outputs": [],
   "source": [
    "# But : Supprimer l'employé 64b9f6e8ecdb16d93771e9f2.\n",
    "\n",
    "employes.delete_one({\"_id\": ObjectId(\"64b9f6e8ecdb16d93771e9f2\")})\n",
    "\n",
    "\n",
    "# Résultat : Document 64b9f6e8ecdb16d93771e9f2 supprimé."
   ]
  },
  {
   "cell_type": "markdown",
   "id": "d94d82dd",
   "metadata": {},
   "source": [
    "# 8. Ajout d'un nouveau département "
   ]
  },
  {
   "cell_type": "code",
   "execution_count": null,
   "id": "6be0b003",
   "metadata": {},
   "outputs": [],
   "source": [
    "#  But métier :\n",
    "# Ajouter un nouveau département nommé \"Innovation\" dans la base RH,\n",
    "# avec pour responsable (manager) la personne nommée \"ADJOVI\".\n",
    "\n",
    "departments.insert_one({\n",
    "    \"department_id\": \"D005\",\n",
    "    \"name\": \"Innovation\",\n",
    "    \"manager\": \"ADJOVI\"\n",
    "})\n",
    "\n",
    "#  Lecture du résultat :\n",
    "# - Insère un nouveau document dans la collection \"departments\".\n",
    "# - Le document contient un identifiant unique \"D005\", un nom de département et un manager associé.\n",
    "# - Si l'insertion réussit, PyMongo retourne un objet avec l’`_id` généré automatiquement (ou défini si précisé).\n"
   ]
  },
  {
   "cell_type": "markdown",
   "id": "88a99b47",
   "metadata": {},
   "source": [
    "# 9. Liste des départements "
   ]
  },
  {
   "cell_type": "code",
   "execution_count": null,
   "id": "5b538e8e",
   "metadata": {},
   "outputs": [],
   "source": [
    "#  But métier :\n",
    "# Obtenir la liste complète de tous les départements enregistrés dans la base RH.\n",
    "# Cela permet, par exemple, d'afficher tous les départements disponibles dans une interface ou de les analyser.\n",
    "\n",
    "list(departments.find())\n",
    "\n",
    "#  Lecture du résultat :\n",
    "# - `departments.find()` renvoie un curseur contenant tous les documents de la collection \"departments\".\n",
    "# - La fonction `list()` convertit ce curseur en liste Python pour faciliter l'affichage ou l'itération.\n",
    "# Résultat : une liste de dictionnaires (un par département), avec leurs champs (ex: department_id, name, manager, etc.).\n"
   ]
  },
  {
   "cell_type": "markdown",
   "id": "7e8d78f5",
   "metadata": {},
   "source": [
    "## Filtres et requetes avancées "
   ]
  },
  {
   "cell_type": "markdown",
   "id": "5a29d62c",
   "metadata": {},
   "source": [
    "# 1. Employés avec salaire > 500000 et dans le département D001"
   ]
  },
  {
   "cell_type": "code",
   "execution_count": null,
   "id": "9e430b2c",
   "metadata": {},
   "outputs": [],
   "source": [
    "# But : Trouver employés avec salaire > 500000 ET department_id = D001.\n",
    "cursor = employees.find({\n",
    "    \"$and\": [\n",
    "        {\"salary\": {\"$gt\": 500000}},\n",
    "        {\"department_id\": \"D001\"}\n",
    "    ]\n",
    "})\n",
    "for e in cursor:\n",
    "    print(e)\n",
    "# Résultat : Documents filtrés selon deux conditions.\n"
   ]
  },
  {
   "cell_type": "markdown",
   "id": "9c147f7c",
   "metadata": {},
   "source": [
    "# 2. Employés avec prénom commençant par \"A\" (regex)"
   ]
  },
  {
   "cell_type": "code",
   "execution_count": null,
   "id": "f6ece9e0",
   "metadata": {},
   "outputs": [],
   "source": [
    "# But : Lister employés dont le prénom commence par \"A\".\n",
    "cursor = employees.find({\"first_name\": {\"$regex\": \"^A\", \"$options\": \"i\"}})\n",
    "for e in cursor:\n",
    "    print(e)\n",
    "# Résultat : Recherche insensible à la casse.\n"
   ]
  },
  {
   "cell_type": "markdown",
   "id": "c6210223",
   "metadata": {},
   "source": [
    "# 3. Employés dans une liste de départements"
   ]
  },
  {
   "cell_type": "code",
   "execution_count": null,
   "id": "a38b99f9",
   "metadata": {},
   "outputs": [],
   "source": [
    "# But : Chercher employés dans les départements D001, D002 ou D003.\n",
    "cursor = employees.find({\"department_id\": {\"$in\": [\"D001\", \"D002\", \"D003\"]}})\n",
    "for e in cursor:\n",
    "    print(e)\n",
    "# Résultat : Documents avec department_id dans la liste.\n"
   ]
  },
  {
   "cell_type": "markdown",
   "id": "0ec41508",
   "metadata": {},
   "source": [
    "# 4. Employés avec champ \"phone\" existant"
   ]
  },
  {
   "cell_type": "code",
   "execution_count": null,
   "id": "6ece01be",
   "metadata": {},
   "outputs": [],
   "source": [
    "# But : Trouver employés avec un numéro de téléphone renseigné.\n",
    "cursor = employees.find({\"phone\": {\"$exists\": True}})\n",
    "for e in cursor:\n",
    "    print(e)\n",
    "# Résultat : Documents avec champ phone.\n"
   ]
  },
  {
   "cell_type": "markdown",
   "id": "05e1dc7c",
   "metadata": {},
   "source": [
    "# 5. Employés avec salaire entre 400000 et 600000"
   ]
  },
  {
   "cell_type": "code",
   "execution_count": null,
   "id": "e300a6db",
   "metadata": {},
   "outputs": [],
   "source": [
    "# But : Filtrer salariés dans une fourchette salariale.\n",
    "cursor = employees.find({\n",
    "    \"salary\": {\"$gte\": 400000, \"$lte\": 600000}\n",
    "})\n",
    "for e in cursor:\n",
    "    print(e)\n",
    "# Résultat : Documents filtrés par salaire.\n"
   ]
  },
  {
   "cell_type": "markdown",
   "id": "6d0a2fa2",
   "metadata": {},
   "source": [
    "# 6. Projection : afficher nom, prénom et salaire triés par salaire décroissant"
   ]
  },
  {
   "cell_type": "code",
   "execution_count": null,
   "id": "f9d5ecee",
   "metadata": {},
   "outputs": [],
   "source": [
    "# But : Afficher seulement last_name, first_name, salary, triés par salary décroissant.\n",
    "cursor = employees.find(\n",
    "    {},\n",
    "    {\"_id\": 0, \"last_name\": 1, \"first_name\":1, \"salary\": 1}\n",
    ").sort(\"salary\", -1)\n",
    "for e in cursor:\n",
    "    print(e)\n",
    "# Résultat : Liste avec les champs projetés et triée.\n"
   ]
  },
  {
   "cell_type": "markdown",
   "id": "586bf9a6",
   "metadata": {},
   "source": [
    "## Agrégations"
   ]
  },
  {
   "cell_type": "markdown",
   "id": "1b6be0a6",
   "metadata": {},
   "source": [
    "# 1. Moyenne de salaire par département "
   ]
  },
  {
   "cell_type": "code",
   "execution_count": null,
   "id": "f0fd3080",
   "metadata": {},
   "outputs": [],
   "source": [
    "# But : Calculer la moyenne des salaires par département.\n",
    "pipeline = [\n",
    "    {\"$group\": {\n",
    "        \"_id\": \"$department_id\",\n",
    "        \"avg_salary\": {\"$avg\": \"$salary\"}\n",
    "    }}\n",
    "]\n",
    "result = list(employees.aggregate(pipeline))\n",
    "print(result)\n",
    "# Résultat : Liste avec moyenne par département.\n"
   ]
  },
  {
   "cell_type": "markdown",
   "id": "948f88da",
   "metadata": {},
   "source": [
    "# 2. Top 3 employés les mieux payés"
   ]
  },
  {
   "cell_type": "code",
   "execution_count": null,
   "id": "536e2e7c",
   "metadata": {},
   "outputs": [],
   "source": [
    "# But : Lister les 3 employés avec les plus hauts salaires.\n",
    "pipeline = [\n",
    "    {\"$sort\": {\"salary\": -1}},\n",
    "    {\"$limit\": 3}\n",
    "]\n",
    "result = list(employees.aggregate(pipeline))\n",
    "print(result)\n",
    "# Résultat : Les 3 documents avec les salaires les plus élevés.\n"
   ]
  },
  {
   "cell_type": "markdown",
   "id": "5047fc5c",
   "metadata": {},
   "source": [
    "# 3. Nombre d’employés par fonction"
   ]
  },
  {
   "cell_type": "code",
   "execution_count": null,
   "id": "ea18f5e7",
   "metadata": {},
   "outputs": [],
   "source": [
    "# But : Compter combien d'employés par job_title.\n",
    "pipeline = [\n",
    "    {\"$group\": {\n",
    "        \"_id\": \"$job_title\",\n",
    "        \"count\": {\"$sum\": 1}\n",
    "    }}\n",
    "]\n",
    "result = list(employees.aggregate(pipeline))\n",
    "print(result)\n",
    "# Résultat : Documents avec job_title et nombre d'employés.\n"
   ]
  },
  {
   "cell_type": "markdown",
   "id": "0d1d0c26",
   "metadata": {},
   "source": [
    "# 4. employés avec infos département"
   ]
  },
  {
   "cell_type": "code",
   "execution_count": null,
   "id": "80bb49bc",
   "metadata": {},
   "outputs": [],
   "source": [
    "# But : Afficher employés avec leur département (join departments).\n",
    "pipeline = [\n",
    "    {\n",
    "        \"$lookup\": {\n",
    "            \"from\": \"departments\",\n",
    "            \"localField\": \"department_id\",\n",
    "            \"foreignField\": \"department_id\",\n",
    "            \"as\": \"department_info\"\n",
    "        }\n",
    "    }\n",
    "]\n",
    "result = list(employees.aggregate(pipeline))\n",
    "print(result)\n",
    "# Résultat : Chaque employé a un tableau department_info attaché.\n"
   ]
  },
  {
   "cell_type": "markdown",
   "id": "3e7b585f",
   "metadata": {},
   "source": [
    "# 5. Décomposer tableau de congés (unwind) puis compter par employé"
   ]
  },
  {
   "cell_type": "code",
   "execution_count": null,
   "id": "54585adb",
   "metadata": {},
   "outputs": [],
   "source": [
    "#  But métier :\n",
    "# Compter le nombre de jours de congé pris par employé (si on a un tableau `leave_days`).\n",
    "\n",
    "pipeline = [\n",
    "    {\"$unwind\": \"$leave_days\"},  # Décompose chaque jour du tableau\n",
    "    {\"$group\": {\n",
    "        \"_id\": \"$employee_id\",\n",
    "        \"total_leave_days\": {\"$sum\": 1}\n",
    "    }}\n",
    "]\n",
    "\n",
    "# 📌 Résultat :\n",
    "# Liste avec chaque employé et le nombre de jours de congé utilisés.\n",
    "# ⚠️ À adapter si ta structure ne contient pas de tableau `leave_days`.\n"
   ]
  },
  {
   "cell_type": "markdown",
   "id": "4311e7d8",
   "metadata": {},
   "source": [
    "# 6. Filtrer congés approuvés puis compter par employé\n",
    "\n"
   ]
  },
  {
   "cell_type": "code",
   "execution_count": null,
   "id": "474d1ecd",
   "metadata": {},
   "outputs": [],
   "source": [
    "#But métier :\n",
    "# Identifier les employés ayant eu le plus de congés approuvés.\n",
    "\n",
    "pipeline = [\n",
    "    {\"$match\": {\"status\": \"Approved\"}},\n",
    "    {\"$group\": {\n",
    "        \"_id\": \"$employee_id\",\n",
    "        \"approved_leaves\": {\"$sum\": 1}\n",
    "    }}\n",
    "]\n",
    "\n",
    "result = list(leave_requests.aggregate(pipeline))\n",
    "print(result)\n",
    "\n",
    "#  Résultat :\n",
    "# Chaque ligne indique le nombre de demandes de congé approuvées par employé.\n"
   ]
  },
  {
   "cell_type": "markdown",
   "id": "a7bd59a9",
   "metadata": {},
   "source": [
    "# 7. Projeter uniquement nom et département, trier par nom"
   ]
  },
  {
   "cell_type": "code",
   "execution_count": null,
   "id": "22ed7ad5",
   "metadata": {},
   "outputs": [],
   "source": [
    "#  But métier :\n",
    "# Créer une liste alphabétique des employés avec leur département pour affichage ou export.\n",
    "\n",
    "pipeline = [\n",
    "    {\"$project\": {\n",
    "        \"first_name\": 1,\n",
    "        \"last_name\": 1,\n",
    "        \"department_id\": 1,\n",
    "        \"_id\": 0\n",
    "    }},\n",
    "    {\"$sort\": {\"last_name\": 1}}\n",
    "]\n",
    "\n",
    "result = list(employees.aggregate(pipeline))\n",
    "print(result)\n",
    "\n",
    "#  Résultat :\n",
    "# Liste des employés avec noms triés (sans _id), utile pour un tableau ou une interface.\n"
   ]
  },
  {
   "cell_type": "markdown",
   "id": "355d7632",
   "metadata": {},
   "source": [
    "# 8. Agrégation imbriquée : Moyenne des salaires des employés par manager"
   ]
  },
  {
   "cell_type": "code",
   "execution_count": null,
   "id": "d889329f",
   "metadata": {},
   "outputs": [],
   "source": [
    "#  But métier :\n",
    "# Calculer la moyenne des salaires par manager (en se basant sur les départements qu'ils dirigent).\n",
    "\n",
    "pipeline = [\n",
    "    {\n",
    "        \"$lookup\": {\n",
    "            \"from\": \"departments\",\n",
    "            \"localField\": \"department_id\",\n",
    "            \"foreignField\": \"department_id\",\n",
    "            \"as\": \"dept_info\"\n",
    "        }\n",
    "    },\n",
    "    {\"$unwind\": \"$dept_info\"},\n",
    "    {\"$group\": {\n",
    "        \"_id\": \"$dept_info.manager\",\n",
    "        \"avg_salary\": {\"$avg\": \"$salary\"}\n",
    "    }},\n",
    "    {\"$sort\": {\"avg_salary\": -1}}\n",
    "]\n",
    "\n",
    "result = list(employees.aggregate(pipeline))\n",
    "print(result)\n",
    "\n",
    "#  Résultat :\n",
    "# Liste avec chaque manager et la moyenne des salaires des employés de son département.\n"
   ]
  },
  {
   "cell_type": "code",
   "execution_count": null,
   "id": "4aafdec3",
   "metadata": {},
   "outputs": [],
   "source": []
  },
  {
   "cell_type": "markdown",
   "id": "38ea9de5",
   "metadata": {},
   "source": [
    "# 9. Nombre de congés par employé"
   ]
  },
  {
   "cell_type": "code",
   "execution_count": null,
   "id": "da6defd3",
   "metadata": {},
   "outputs": [],
   "source": [
    "#  But métier :\n",
    "# Calculer le **nombre total de demandes de congés** effectuées par chaque employé.\n",
    "# Cette analyse permet à la RH de visualiser la fréquence des demandes de congé par employé.\n",
    "\n",
    "pipeline = [\n",
    "    {\"$group\": {\n",
    "        \"_id\": \"$employee_id\",                  # Grouper les documents par identifiant d'employé\n",
    "        \"total_leaves\": {\"$sum\": 1}             # Compter le nombre de demandes (chaque document = 1)\n",
    "    }}\n",
    "]\n",
    "\n",
    "list(leave_requests.aggregate(pipeline))\n",
    "\n",
    "#  Lecture du résultat :\n",
    "# - Chaque document retourné contient :\n",
    "#     - `_id`: l'identifiant de l'employé (ex: \"EMP001\")\n",
    "#     - `total_leaves`: le nombre total de demandes de congés faites par cet employé\n",
    "# Résultat attendu :\n",
    "# [\n",
    "#   {\"_id\": \"EMP001\", \"total_leaves\": 3},\n",
    "#   {\"_id\": \"EMP002\", \"total_leaves\": 1},\n",
    "#   ...\n",
    "# ]\n"
   ]
  },
  {
   "cell_type": "markdown",
   "id": "420f6891",
   "metadata": {},
   "source": [
    "---\n",
    "\n",
    "© 2025 Essodolom BOUWEKA & DJOHSON Daniel\n"
   ]
  }
 ],
 "metadata": {
  "kernelspec": {
   "display_name": "venv",
   "language": "python",
   "name": "python3"
  },
  "language_info": {
   "codemirror_mode": {
    "name": "ipython",
    "version": 3
   },
   "file_extension": ".py",
   "mimetype": "text/x-python",
   "name": "python",
   "nbconvert_exporter": "python",
   "pygments_lexer": "ipython3",
   "version": "3.13.1"
  }
 },
 "nbformat": 4,
 "nbformat_minor": 5
}
