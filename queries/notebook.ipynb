{
 "cells": [
  {
   "cell_type": "markdown",
   "metadata": {},
   "source": [
    "# Notebook MongoDB : Import des données et requêtes\n",
    "\n",
    "Ce notebook montre comment importer des fichiers JSON dans MongoDB et effectuer 20 requêtes classiques."
   ]
  },
  {
   "cell_type": "code",
   "metadata": {},
   "source": [
    "# Imports\n",
    "import os\n",
    "import json\n",
    "from pymongo import MongoClient\n",
    "from dotenv import load_dotenv\n",
    "\n",
    "# Charger les variables d'environnement\n",
    "load_dotenv()\n",
    "\n",
    "# Définir les chemins\n",
    "BASE_DIR = os.path.dirname(os.path.abspath(\"\"))\n",
    "DATA_DIR = os.path.join(BASE_DIR, \"data\")  # Assure-toi que les fichiers JSON sont dans ce dossier\n",
    "\n",
    "# Connexion MongoDB\n",
    "MONGO_MODE = os.getenv(\"MONGO_MODE\", \"local\")\n",
    "MONGO_URI = os.getenv(\"MONGO_ATLAS_URI\") if MONGO_MODE == \"atlas\" else os.getenv(\"MONGO_LOCAL_URI\")\n",
    "DB_NAME = os.getenv(\"DB_NAME\", \"rh_management\")\n",
    "client = MongoClient(MONGO_URI)\n",
    "db = client[DB_NAME]"
   ],
   "execution_count": null,
   "outputs": []
  },
  {
   "cell_type": "markdown",
   "metadata": {},
   "source": [
    "### Fonction pour insérer un fichier JSON dans une collection"
   ]
  },
  {
   "cell_type": "code",
   "metadata": {},
   "source": [
    "def insert_json(filename, collection_name):\n",
    "    filepath = os.path.join(DATA_DIR, filename)\n",
    "    if not os.path.exists(filepath):\n",
    "        print(f\"❌ Fichier non trouvé : {filepath}\")\n",
    "        return\n",
    "    \n",
    "    with open(filepath, encoding='utf-8') as f:\n",
    "        data = json.load(f)\n",
    "        if isinstance(data, list):\n",
    "            result = db[collection_name].insert_many(data)\n",
    "            print(f\"✅ Insertion dans {collection_name} : {len(result.inserted_ids)} documents.\")\n",
    "        else:\n",
    "            print(f\"⚠️ Format invalide dans {filename} (doit être une liste JSON).\")"
   ],
   "execution_count": null,
   "outputs": []
  },
  {
   "cell_type": "markdown",
   "metadata": {},
   "source": [
    "### Import des collections"
   ]
  },
  {
   "cell_type": "code",
   "metadata": {},
   "source": [
    "# Insérer les données JSON dans les collections\n",
    "insert_json('departements.json', 'departements')\n",
    "insert_json('postes.json', 'postes')\n",
    "insert_json('employes.json', 'employes')"
   ],
   "execution_count": null,
   "outputs": []
  },
  {
   "cell_type": "markdown",
   "metadata": {},
   "source": [
    "# Liste des 20 requêtes MongoDB sur les collections\n",
    "\n",
    "Chaque requête est suivie d'une explication."
   ]
  },
  {
   "cell_type": "code",
   "metadata": {},
   "source": [
    "# 1. Compter le nombre de documents dans chaque collection\n",
    "print(\"Nombre de documents dans chaque collection :\")\n",
    "for coll_name in ['departements', 'postes', 'employes']:\n",
    "    count = db[coll_name].count_documents({})\n",
    "    print(f\"- {coll_name} : {count} documents\")"
   ],
   "execution_count": null,
   "outputs": []
  },
  {
   "cell_type": "markdown",
   "metadata": {},
   "source": [
    "Cette requête compte tous les documents d’une collection."
   ]
  },
  {
   "cell_type": "code",
   "metadata": {},
   "source": [
    "# 2. Trouver tous les départements dont le nom contient 'Tech'\n",
    "results = db.departements.find({\"nom\": {\"$regex\": \"Tech\", \"$options\": \"i\"}})\n",
    "print(\"Départements avec 'Tech' dans le nom :\")\n",
    "for doc in results:\n",
    "    print(doc)"
   ],
   "execution_count": null,
   "outputs": []
  },
  {
   "cell_type": "markdown",
   "metadata": {},
   "source": [
    "Recherche par expression régulière insensible à la casse sur le champ `nom`."
   ]
  },
  {
   "cell_type": "code",
   "metadata": {},
   "source": [
    "# 3. Lister tous les postes avec un salaire max supérieur à 500000\n",
    "results = db.postes.find({\"salaire_max\": {\"$gt\": 500000}})\n",
    "print(\"Postes avec salaire max > 500000 :\")\n",
    "for doc in results:\n",
    "    print(doc)"
   ],
   "execution_count": null,
   "outputs": []
  },
  {
   "cell_type": "markdown",
   "metadata": {},
   "source": [
    "Filtrer les postes selon le salaire maximum."
   ]
  },
  {
   "cell_type": "code",
   "metadata": {},
   "source": [
    "# 4. Trouver un employé par son prénom 'Alice'\n",
    "doc = db.employes.find_one({\"prenom\": \"Alice\"})\n",
    "print(\"Employé avec prénom Alice :\", doc)"
   ],
   "execution_count": null,
   "outputs": []
  },
  {
   "cell_type": "markdown",
   "metadata": {},
   "source": [
    "Recherche d’un document unique avec `find_one`."
   ]
  },
  {
   "cell_type": "code",
   "metadata": {},
   "source": [
    "# 5. Mettre à jour le salaire min des postes 'ingénieur' à 400000\n",
    "result = db.postes.update_many(\n",
    "    {\"intitule\": {\"$regex\": \"ingénieur\", \"$options\": \"i\"}},\n",
    "    {\"$set\": {\"salaire_min\": 400000}}\n",
    ")\n",
    "print(f\"Postes mis à jour : {result.modified_count}\")"
   ],
   "execution_count": null,
   "outputs": []
  },
  {
   "cell_type": "markdown",
   "metadata": {},
   "source": [
    "Met à jour plusieurs documents dont le titre contient 'ingénieur'."
   ]
  },
  {
   "cell_type": "code",
   "metadata": {},
   "source": [
    "# 6. Supprimer les employés avec un salaire inférieur à 200000\n",
    "result = db.employes.delete_many({\"salaire\": {\"$lt\": 200000}})\n",
    "print(f\"Employés supprimés : {result.deleted_count}\")"
   ],
   "execution_count": null,
   "outputs": []
  },
  {
   "cell_type": "markdown",
   "metadata": {},
   "source": [
    "Supprime les documents selon une condition."
   ]
  },
  {
   "cell_type": "code",
   "metadata": {},
   "source": [
    "# 7. Trouver les employés travaillant dans le département 'IT'\n",
    "results = db.employes.find({\"departement\": \"IT\"})\n",
    "print(\"Employés dans le département IT :\")\n",
    "for doc in results:\n",
    "    print(doc)"
   ],
   "execution_count": null,
   "outputs": []
  },
  {
   "cell_type": "markdown",
   "metadata": {},
   "source": [
    "Filtrer sur un champ exact."
   ]
  },
  {
   "cell_type": "code",
   "metadata": {},
   "source": [
    "# 8. Afficher les postes triés par salaire max décroissant\n",
    "results = db.postes.find().sort(\"salaire_max\", -1)\n",
    "print(\"Postes triés par salaire max décroissant :\")\n",
    "for doc in results:\n",
    "    print(doc)"
   ],
   "execution_count": null,
   "outputs": []
  },
  {
   "cell_type": "markdown",
   "metadata": {},
   "source": [
    "Tri des résultats."
   ]
  },
  {
   "cell_type": "code",
   "metadata": {},
   "source": [
    "# 9. Compter le nombre d'employés par département (agrégation)\n",
    "pipeline = [\n",
    "    {\"$group\": {\"_id\": \"$departement\", \"total_employes\": {\"$sum\": 1}}}\n",
    "]\n",
    "results = db.employes.aggregate(pipeline)\n",
    "print(\"Nombre d'employés par département :\")\n",
    "for doc in results:\n",
    "    print(doc)"
   ],
   "execution_count": null,
   "outputs": []
  },
  {
   "cell_type": "markdown",
   "metadata": {},
   "source": [
    "Utilisation d'un pipeline d'agrégation pour compter par groupe."
   ]
  },
  {
   "cell_type": "code",
   "metadata": {},
   "source": [
    "# 10. Trouver les postes dont le salaire min est entre 300000 et 500000\n",
    "results = db.postes.find({\"salaire_min\": {\"$gte\": 300000, \"$lte\": 500000}})\n",
    "print(\"Postes avec salaire min entre 300000 et 500000 :\")\n",
    "for doc in results:\n",
    "    print(doc)"
   ],
   "execution_count": null,
   "outputs": []
  },
  {
   "cell_type": "markdown",
   "metadata": {},
   "source": [
    "Filtrer avec une condition entre deux valeurs."
   ]
  },
  {
   "cell_type": "code",
   "metadata": {},
   "source": [
    "# 11. Mettre à jour tous les employés pour ajouter un champ 'actif' à True\n",
    "result = db.employes.update_many({}, {\"$set\": {\"actif\": True}})\n",
    "print(f\"Employés mis à jour (ajout champ 'actif'): {result.modified_count}\")"
   ],
   "execution_count": null,
   "outputs": []
  },
  {
   "cell_type": "markdown",
   "metadata": {},
   "source": [
    "Ajout d'un champ booléen à tous les documents."
   ]
  },
  {
   "cell_type": "code",
   "metadata": {},
   "source": [
    "# 12. Trouver les employés dont le prénom commence par 'J'\n",
    "results = db.employes.find({\"prenom\": {\"$regex\": \"^J\", \"$options\": \"i\"}})\n",
    "print(\"Employés dont le prénom commence par 'J' :\")\n",
    "for doc in results:\n",
    "    print(doc)"
   ],
   "execution_count": null,
   "outputs": []
  },
  {
   "cell_type": "markdown",
   "metadata": {},
   "source": [
    "Recherche par expression régulière sur le début du prénom."
   ]
  },
  {
   "cell_type": "code",
   "metadata": {},
   "source": [
    "# 13. Supprimer les départements sans employés (supposons champ 'employes_count')\n",
    "result = db.departements.delete_many({\"employes_count\": 0})\n",
    "print(f\"Départements supprimés (sans employés): {result.deleted_count}\")"
   ],
   "execution_count": null,
   "outputs": []
  },
  {
   "cell_type": "markdown",
   "metadata": {},
   "source": [
    "Suppression conditionnelle."
   ]
  },
  {
   "cell_type": "code",
   "metadata": {},
   "source": [
    "# 14. Trouver les postes dont la description contient 'gestion'\n",
    "results = db.postes.find({\"description\": {\"$regex\": \"gestion\", \"$options\": \"i\"}})\n",
    "print(\"Postes avec 'gestion' dans la description :\")\n",
    "for doc in results:\n",
    "    print(doc)"
   ],
   "execution_count": null,
   "outputs": []
  },
  {
   "cell_type": "markdown",
   "metadata": {},
   "source": [
    "Recherche par texte dans une description."
   ]
  },
  {
   "cell_type": "code",
   "metadata": {},
   "source": [
    "# 15. Afficher les 5 premiers employés triés par salaire décroissant\n",
    "results = db.employes.find().sort(\"salaire\", -1).limit(5)\n",
    "print(\"Top 5 employés par salaire :\")\n",
    "for doc in results:\n",
    "    print(doc)"
   ],
   "execution_count": null,
   "outputs": []
  },
  {
   "cell_type": "markdown",
   "metadata": {},
   "source": [
    "Limite le nombre de résultats et trie."
   ]
  },
  {
   "cell_type": "code",
   "metadata": {},
   "source": [
    "# 16. Compter les postes dont le salaire min est supérieur à 350000\n",
    "count = db.postes.count_documents({\"salaire_min\": {\"$gt\": 350000}})\n",
    "print(f\"Nombre de postes avec salaire min > 350000 : {count}\")"
   ],
   "execution_count": null,
   "outputs": []
  },
  {
   "cell_type": "markdown",
   "metadata": {},
   "source": [
    "Comptage avec condition."
   ]
  },
  {
   "cell_type": "code",
   "metadata": {},
   "source": [
    "# 17. Mettre à jour tous les départements pour ajouter un champ 'actif' à True\n",
    "result = db.departements.update_many({}, {\"$set\": {\"actif\": True}})\n",
    "print(f\"Départements mis à jour (ajout champ 'actif'): {result.modified_count}\")"
   ],
   "execution_count": null,
   "outputs": []
  },
  {
   "cell_type": "markdown",
   "metadata": {},
   "source": [
    "Ajout d'un champ booléen."
   ]
  },
  {
   "cell_type": "code",
   "metadata": {},
   "source": [
    "# 18. Trouver les employés qui ont un poste de 'manager'\n",
    "results = db.employes.find({\"poste\": {\"$regex\": \"manager\", \"$options\": \"i\"}})\n",
    "print(\"Employés avec un poste de manager :\")\n",
    "for doc in results:\n",
    "    print(doc)"
   ],
   "execution_count": null,
   "outputs": []
  },
  {
   "cell_type": "markdown",
   "metadata": {},
   "source": [
    "Recherche avec expression régulière."
   ]
  },
  {
   "cell_type": "code",
   "metadata": {},
   "source": [
    "# 19. Supprimer tous les employés inactifs (champ 'actif' à False)\n",
    "result = db.employes.delete_many({\"actif\": False})\n",
    "print(f\"Employés inactifs supprimés : {result.deleted_count}\")"
   ],
   "execution_count": null,
   "outputs": []
  },
  {
   "cell_type": "markdown",
   "metadata": {},
   "source": [
    "Suppression conditionnelle."
   ]
  },
  {
   "cell_type": "code",
   "metadata": {},
   "source": [
    "# 20. Trouver les postes dont le champ 'description' existe\n",
    "results = db.postes.find({\"description\": {\"$exists\": True}})\n",
    "print(\"Postes avec champ 'description' :\")\n",
    "for doc in results:\n",
    "    print(doc)"
   ],
   "execution_count": null,
   "outputs": []
  }
 ],
 "metadata": {
  "kernelspec": {
   "display_name": "Python 3",
   "language": "python",
   "name": "python3"
  },
  "language_info": {
   "name": "python",
   "version": "3.x"
  }
 },
 "nbformat": 4,
 "nbformat_minor": 5
}
